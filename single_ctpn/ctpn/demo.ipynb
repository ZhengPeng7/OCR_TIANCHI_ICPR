{
 "cells": [
  {
   "cell_type": "code",
   "execution_count": 7,
   "metadata": {},
   "outputs": [
    {
     "ename": "ImportError",
     "evalue": "No module named 'lib'",
     "output_type": "error",
     "traceback": [
      "\u001b[0;31m---------------------------------------------------------------------------\u001b[0m",
      "\u001b[0;31mImportError\u001b[0m                               Traceback (most recent call last)",
      "\u001b[0;32m<ipython-input-7-baaa974efb37>\u001b[0m in \u001b[0;36m<module>\u001b[0;34m()\u001b[0m\n\u001b[1;32m      4\u001b[0m \u001b[0;32mimport\u001b[0m \u001b[0mnumpy\u001b[0m \u001b[0;32mas\u001b[0m \u001b[0mnp\u001b[0m\u001b[0;34m\u001b[0m\u001b[0m\n\u001b[1;32m      5\u001b[0m \u001b[0;32mimport\u001b[0m \u001b[0mtensorflow\u001b[0m \u001b[0;32mas\u001b[0m \u001b[0mtf\u001b[0m\u001b[0;34m\u001b[0m\u001b[0m\n\u001b[0;32m----> 6\u001b[0;31m \u001b[0;32mfrom\u001b[0m \u001b[0mlib\u001b[0m\u001b[0;34m.\u001b[0m\u001b[0mutils\u001b[0m\u001b[0;34m.\u001b[0m\u001b[0mtimer\u001b[0m \u001b[0;32mimport\u001b[0m \u001b[0mTimer\u001b[0m\u001b[0;34m\u001b[0m\u001b[0m\n\u001b[0m\u001b[1;32m      7\u001b[0m \u001b[0;32mfrom\u001b[0m \u001b[0mlib\u001b[0m\u001b[0;34m.\u001b[0m\u001b[0mfast_rcnn\u001b[0m\u001b[0;34m.\u001b[0m\u001b[0mconfig\u001b[0m \u001b[0;32mimport\u001b[0m \u001b[0mcfg\u001b[0m\u001b[0;34m\u001b[0m\u001b[0m\n\u001b[1;32m      8\u001b[0m \u001b[0;32mfrom\u001b[0m \u001b[0mlib\u001b[0m\u001b[0;34m.\u001b[0m\u001b[0mfast_rcnn\u001b[0m\u001b[0;34m.\u001b[0m\u001b[0mtest\u001b[0m \u001b[0;32mimport\u001b[0m  \u001b[0mtest_ctpn\u001b[0m\u001b[0;34m\u001b[0m\u001b[0m\n",
      "\u001b[0;31mImportError\u001b[0m: No module named 'lib'"
     ]
    }
   ],
   "source": [
    "import os\n",
    "import sys\n",
    "import cv2\n",
    "import numpy as np\n",
    "import tensorflow as tf\n",
    "from lib.utils.timer import Timer\n",
    "from lib.fast_rcnn.config import cfg\n",
    "from lib.fast_rcnn.test import  test_ctpn\n",
    "from lib.networks.factory import get_network\n",
    "from lib.text_connector.detectors import TextDetector\n",
    "from lib.text_connector.text_connect_cfg import Config as TextLineCfg\n",
    "\n",
    "\n",
    "def resize_im(im, scale, max_scale=None):\n",
    "    f = float(scale) / min(im.shape[0], im.shape[1])\n",
    "    if max_scale != None and f * max(im.shape[0], im.shape[1]) > max_scale:\n",
    "        f = float(max_scale) / max(im.shape[0], im.shape[1])\n",
    "    return cv2.resize(im, None, None, fx=f, fy=f, interpolation=cv2.INTER_LINEAR), f\n",
    "\n",
    "def load_tf_model():\n",
    "    # load config file\n",
    "    # cfg.TEST.checkpoints_path = './ctpn/checkpoints'\n",
    "    cfg.TEST.checkpoints_path = './checkpoints'\n",
    "\n",
    "    # init session\n",
    "    gpu_options = tf.GPUOptions(per_process_gpu_memory_fraction=1.0)\n",
    "    config = tf.ConfigProto(allow_soft_placement=True, gpu_options=gpu_options)\n",
    "    sess = tf.Session(config=config)\n",
    "\n",
    "    # load network\n",
    "    net = get_network(\"VGGnet_test\")\n",
    "\n",
    "    # load model\n",
    "    print('Loading network {:s}... '.format(\"VGGnet_test\"))\n",
    "    saver = tf.train.Saver()\n",
    "    # print(cfg.TEST.checkpoints_path)\n",
    "    # input()\n",
    "    try:\n",
    "        ckpt = tf.train.get_checkpoint_state(cfg.TEST.checkpoints_path)\n",
    "        print('Restoring from {}...'.format(ckpt.model_checkpoint_path))\n",
    "        saver.restore(sess, ckpt.model_checkpoint_path)\n",
    "        print('done')\n",
    "    except:\n",
    "        raise 'Check your pretrained {:s}'.format(ckpt.model_checkpoint_path)\n",
    "\n",
    "    return sess, net\n",
    "\n",
    "sess, net = load_tf_model()\n",
    "\n",
    "def ctpn(img):\n",
    "    timer = Timer()\n",
    "    timer.tic()\n",
    "\n",
    "    img, scale = resize_im(img, scale=TextLineCfg.SCALE, max_scale=TextLineCfg.MAX_SCALE)\n",
    "    scores, boxes = test_ctpn(sess, net, img)\n",
    "\n",
    "    textdetector = TextDetector()\n",
    "    boxes = textdetector.detect(boxes, scores[:, np.newaxis], img.shape[:2])\n",
    "    timer.toc()\n",
    "    print(\"\\n----------------------------------------------\")\n",
    "    print(('Detection took {:.3f}s for '\n",
    "           '{:d} object proposals').format(timer.total_time, boxes.shape[0]))\n",
    "\n",
    "    return scores, boxes, img, scale\n",
    "\n",
    "def draw_boxes(img, boxes, scale):\n",
    "    box_id = 0\n",
    "    img = img.copy()\n",
    "    text_recs = np.zeros((len(boxes), 8), np.int)\n",
    "    for box in boxes:\n",
    "        if np.linalg.norm(box[0] - box[1]) < 5 or np.linalg.norm(box[3] - box[0]) < 5:\n",
    "            continue\n",
    "\n",
    "        if box[8] >= 0.8:\n",
    "            color = (255, 0, 0)  # red\n",
    "        else:\n",
    "            color = (0, 255, 0)  # green\n",
    "\n",
    "        cv2.line(img, (int(box[0]), int(box[1])), (int(box[2]), int(box[3])), color, 2)\n",
    "        cv2.line(img, (int(box[0]), int(box[1])), (int(box[4]), int(box[5])), color, 2)\n",
    "        cv2.line(img, (int(box[6]), int(box[7])), (int(box[2]), int(box[3])), color, 2)\n",
    "        cv2.line(img, (int(box[4]), int(box[5])), (int(box[6]), int(box[7])), color, 2)\n",
    "\n",
    "        for i in range(8):\n",
    "            text_recs[box_id, i] = box[i]\n",
    "\n",
    "        box_id += 1\n",
    "\n",
    "    img = cv2.resize(img, None, None, fx=1.0/scale, fy=1.0/scale, interpolation=cv2.INTER_LINEAR)\n",
    "    return text_recs, img\n",
    "\n",
    "def text_detect(img):\n",
    "    scores, boxes, img, scale = ctpn(img)\n",
    "    text_recs, img_drawed = draw_boxes(img, boxes, scale)\n",
    "    return text_recs, img_drawed, img\n",
    "\n",
    "if __name__ == '__main__':\n",
    "    from PIL import Image\n",
    "    from lib.fast_rcnn.config import cfg_from_file\n",
    "    cfg_from_file('./ctpn/text.yml')\n",
    "    im = Image.open('../test_images/demo.jpg')\n",
    "    img = np.array(im.convert('RGB'))\n",
    "    text_recs, img_drawed, img = text_detect(img)\n",
    "    Image.fromarray(img_drawed).save('result.jpg')\n"
   ]
  },
  {
   "cell_type": "code",
   "execution_count": 11,
   "metadata": {},
   "outputs": [
    {
     "ename": "SystemError",
     "evalue": "Parent module '' not loaded, cannot perform relative import",
     "output_type": "error",
     "traceback": [
      "\u001b[0;31m---------------------------------------------------------------------------\u001b[0m",
      "\u001b[0;31mSystemError\u001b[0m                               Traceback (most recent call last)",
      "\u001b[0;32m<ipython-input-11-8011ae95b0ce>\u001b[0m in \u001b[0;36m<module>\u001b[0;34m()\u001b[0m\n\u001b[0;32m----> 1\u001b[0;31m \u001b[0;32mfrom\u001b[0m \u001b[0;34m...\u001b[0m\u001b[0mlib\u001b[0m\u001b[0;34m.\u001b[0m\u001b[0mutils\u001b[0m\u001b[0;34m.\u001b[0m\u001b[0mtimer\u001b[0m \u001b[0;32mimport\u001b[0m \u001b[0mTimer\u001b[0m\u001b[0;34m\u001b[0m\u001b[0m\n\u001b[0m",
      "\u001b[0;31mSystemError\u001b[0m: Parent module '' not loaded, cannot perform relative import"
     ]
    }
   ],
   "source": [
    "from ...lib.utils.timer import Timer"
   ]
  },
  {
   "cell_type": "code",
   "execution_count": null,
   "metadata": {
    "collapsed": true
   },
   "outputs": [],
   "source": []
  }
 ],
 "metadata": {
  "kernelspec": {
   "display_name": "Python 3",
   "language": "python",
   "name": "python3"
  },
  "language_info": {
   "codemirror_mode": {
    "name": "ipython",
    "version": 3
   },
   "file_extension": ".py",
   "mimetype": "text/x-python",
   "name": "python",
   "nbconvert_exporter": "python",
   "pygments_lexer": "ipython3",
   "version": "3.5.3"
  }
 },
 "nbformat": 4,
 "nbformat_minor": 2
}
